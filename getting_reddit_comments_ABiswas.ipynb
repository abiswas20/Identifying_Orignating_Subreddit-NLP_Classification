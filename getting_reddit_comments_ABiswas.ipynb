{
 "cells": [
  {
   "cell_type": "markdown",
   "metadata": {},
   "source": [
    "# 9/29 - Reddit API\n",
    "------\n",
    "**Author:** Apratim Biswas<br>\n",
    "**Source:** Code is largely based on template from Sara Soueidan - Project 3 and Tim Book - API Code."
   ]
  },
  {
   "cell_type": "markdown",
   "metadata": {},
   "source": [
    "**Imports**"
   ]
  },
  {
   "cell_type": "code",
   "execution_count": 11,
   "metadata": {},
   "outputs": [],
   "source": [
    "# Standards\n",
    "import pandas as pd\n",
    "import numpy as np\n",
    "\n",
    "# API\n",
    "import requests\n",
    "\n",
    "# Automating\n",
    "import time\n",
    "import datetime\n",
    "import warnings\n",
    "import sys"
   ]
  },
  {
   "cell_type": "code",
   "execution_count": 1,
   "metadata": {},
   "outputs": [],
   "source": [
    "def get_posts(subreddit, n_iter, epoch_right_now): # subreddit name and number of times function should run\n",
    "    # store base url variable\n",
    "    base_url='https://api.pushshift.io/reddit/search/submission/?subreddit='  \n",
    "    # instantiate empty list    \n",
    "    df_list=[]\n",
    "    # save current epoch, used to iterate in reverse through time\n",
    "    current_time=epoch_right_now\n",
    "    # set up for loop\n",
    "    for post in range(n_iter):    \n",
    "        # instantiate get request\n",
    "        res=requests.get(  \n",
    "            # requests.get takes base_url and params\n",
    "            base_url,\n",
    "            # parameters for get request\n",
    "            params={    \n",
    "                # specify subreddit\n",
    "                'subreddit':subreddit,\n",
    "                # specify number of posts to pull\n",
    "                'size':100,\n",
    "                # ???\n",
    "                'lang':True,\n",
    "                # pull everything from current time backward\n",
    "                'before':current_time}\n",
    "        )\n",
    "        \n",
    "        # take data from most recent request, store as df\n",
    "        df=pd.DataFrame(res.json()['data'])\n",
    "        # pull specific columns from dataframe for analysis\n",
    "        df = df.loc[:, ['title',\n",
    "                        'created_utc', \n",
    "                        'selftext',\n",
    "                        'subreddit',\n",
    "                        'author',\n",
    "                        'media_only',\n",
    "                        'permalink']]\n",
    "        \n",
    "        # append to empty dataframe list\n",
    "        df_list.append(df)\n",
    "        #add wait time\n",
    "        time.sleep(60)\n",
    "        # set current time counter back to last epoch in recently grabbed df\n",
    "        current_time=df['created_utc'].min()\n",
    "\n",
    "    # return one dataframe for all requests\n",
    "    return pd.concat(df_list,axis=0)\n",
    "# Adapated from Tim Book's Lesson Example"
   ]
  },
  {
   "cell_type": "markdown",
   "metadata": {},
   "source": [
    "**Use function on buildapc subreddit**"
   ]
  },
  {
   "cell_type": "code",
   "execution_count": 9,
   "metadata": {},
   "outputs": [
    {
     "ename": "KeyboardInterrupt",
     "evalue": "",
     "output_type": "error",
     "traceback": [
      "\u001b[0;31m---------------------------------------------------------------------------\u001b[0m",
      "\u001b[0;31mKeyboardInterrupt\u001b[0m                         Traceback (most recent call last)",
      "\u001b[0;32m<ipython-input-9-c19804e3aab7>\u001b[0m in \u001b[0;36m<module>\u001b[0;34m\u001b[0m\n\u001b[0;32m----> 1\u001b[0;31m \u001b[0mbuildapc\u001b[0m\u001b[0;34m=\u001b[0m\u001b[0mget_posts\u001b[0m\u001b[0;34m(\u001b[0m\u001b[0;34m'buildapc'\u001b[0m\u001b[0;34m,\u001b[0m\u001b[0;36m150\u001b[0m\u001b[0;34m,\u001b[0m\u001b[0;36m1601513952\u001b[0m\u001b[0;34m)\u001b[0m\u001b[0;34m\u001b[0m\u001b[0;34m\u001b[0m\u001b[0m\n\u001b[0m",
      "\u001b[0;32m<ipython-input-8-5684ac0c2c0d>\u001b[0m in \u001b[0;36mget_posts\u001b[0;34m(subreddit, n_iter, epoch_right_now)\u001b[0m\n\u001b[1;32m     39\u001b[0m         \u001b[0mdf_list\u001b[0m\u001b[0;34m.\u001b[0m\u001b[0mappend\u001b[0m\u001b[0;34m(\u001b[0m\u001b[0mdf\u001b[0m\u001b[0;34m)\u001b[0m\u001b[0;34m\u001b[0m\u001b[0;34m\u001b[0m\u001b[0m\n\u001b[1;32m     40\u001b[0m         \u001b[0;31m#add wait time\u001b[0m\u001b[0;34m\u001b[0m\u001b[0;34m\u001b[0m\u001b[0;34m\u001b[0m\u001b[0m\n\u001b[0;32m---> 41\u001b[0;31m         \u001b[0mtime\u001b[0m\u001b[0;34m.\u001b[0m\u001b[0msleep\u001b[0m\u001b[0;34m(\u001b[0m\u001b[0;36m60\u001b[0m\u001b[0;34m)\u001b[0m\u001b[0;34m\u001b[0m\u001b[0;34m\u001b[0m\u001b[0m\n\u001b[0m\u001b[1;32m     42\u001b[0m         \u001b[0;31m# set current time counter back to last epoch in recently grabbed df\u001b[0m\u001b[0;34m\u001b[0m\u001b[0;34m\u001b[0m\u001b[0;34m\u001b[0m\u001b[0m\n\u001b[1;32m     43\u001b[0m         \u001b[0mcurrent_time\u001b[0m\u001b[0;34m=\u001b[0m\u001b[0mdf\u001b[0m\u001b[0;34m[\u001b[0m\u001b[0;34m'created_utc'\u001b[0m\u001b[0;34m]\u001b[0m\u001b[0;34m.\u001b[0m\u001b[0mmin\u001b[0m\u001b[0;34m(\u001b[0m\u001b[0;34m)\u001b[0m\u001b[0;34m\u001b[0m\u001b[0;34m\u001b[0m\u001b[0m\n",
      "\u001b[0;31mKeyboardInterrupt\u001b[0m: "
     ]
    }
   ],
   "source": [
    "buildapc=get_posts('buildapc',150,1601513952)"
   ]
  },
  {
   "cell_type": "code",
   "execution_count": 16,
   "metadata": {},
   "outputs": [
    {
     "data": {
      "text/html": [
       "<div>\n",
       "<style scoped>\n",
       "    .dataframe tbody tr th:only-of-type {\n",
       "        vertical-align: middle;\n",
       "    }\n",
       "\n",
       "    .dataframe tbody tr th {\n",
       "        vertical-align: top;\n",
       "    }\n",
       "\n",
       "    .dataframe thead th {\n",
       "        text-align: right;\n",
       "    }\n",
       "</style>\n",
       "<table border=\"1\" class=\"dataframe\">\n",
       "  <thead>\n",
       "    <tr style=\"text-align: right;\">\n",
       "      <th></th>\n",
       "      <th>title</th>\n",
       "      <th>created_utc</th>\n",
       "      <th>selftext</th>\n",
       "      <th>subreddit</th>\n",
       "      <th>author</th>\n",
       "      <th>media_only</th>\n",
       "      <th>permalink</th>\n",
       "    </tr>\n",
       "  </thead>\n",
       "  <tbody>\n",
       "    <tr>\n",
       "      <th>0</th>\n",
       "      <td>Upgrading my monitor, will i need to upgrade m...</td>\n",
       "      <td>1601513901</td>\n",
       "      <td>Not sure if this is the correct sub or not but...</td>\n",
       "      <td>buildapc</td>\n",
       "      <td>Eugenethebluejean</td>\n",
       "      <td>False</td>\n",
       "      <td>/r/buildapc/comments/j2yo56/upgrading_my_monit...</td>\n",
       "    </tr>\n",
       "    <tr>\n",
       "      <th>1</th>\n",
       "      <td>I need help building a pc based around an rx 5...</td>\n",
       "      <td>1601513886</td>\n",
       "      <td>Hello,I need as much help as I can get because...</td>\n",
       "      <td>buildapc</td>\n",
       "      <td>Mathew_Esteves</td>\n",
       "      <td>False</td>\n",
       "      <td>/r/buildapc/comments/j2ynzr/i_need_help_buildi...</td>\n",
       "    </tr>\n",
       "    <tr>\n",
       "      <th>2</th>\n",
       "      <td>MotherBoard Choice</td>\n",
       "      <td>1601513854</td>\n",
       "      <td>I have my build but can't pick a motherboard. ...</td>\n",
       "      <td>buildapc</td>\n",
       "      <td>Sinca12</td>\n",
       "      <td>False</td>\n",
       "      <td>/r/buildapc/comments/j2ynpx/motherboard_choice/</td>\n",
       "    </tr>\n",
       "    <tr>\n",
       "      <th>3</th>\n",
       "      <td>First PC hopefully for Christmas, any notes?</td>\n",
       "      <td>1601513825</td>\n",
       "      <td>I'm getting my friends old RX580 after he upgr...</td>\n",
       "      <td>buildapc</td>\n",
       "      <td>Stoompa5</td>\n",
       "      <td>False</td>\n",
       "      <td>/r/buildapc/comments/j2ynf5/first_pc_hopefully...</td>\n",
       "    </tr>\n",
       "    <tr>\n",
       "      <th>4</th>\n",
       "      <td>Upgrading my monitor, do I need to upgrade my ...</td>\n",
       "      <td>1601513783</td>\n",
       "      <td>[deleted]</td>\n",
       "      <td>buildapc</td>\n",
       "      <td>[deleted]</td>\n",
       "      <td>False</td>\n",
       "      <td>/r/buildapc/comments/j2yn0v/upgrading_my_monit...</td>\n",
       "    </tr>\n",
       "    <tr>\n",
       "      <th>...</th>\n",
       "      <td>...</td>\n",
       "      <td>...</td>\n",
       "      <td>...</td>\n",
       "      <td>...</td>\n",
       "      <td>...</td>\n",
       "      <td>...</td>\n",
       "      <td>...</td>\n",
       "    </tr>\n",
       "    <tr>\n",
       "      <th>95</th>\n",
       "      <td>NVMe OR 2.5\" SATA for same price?</td>\n",
       "      <td>1600537991</td>\n",
       "      <td>Hi, I need a new SSD for my boot and cannot de...</td>\n",
       "      <td>buildapc</td>\n",
       "      <td>doncorleone_</td>\n",
       "      <td>False</td>\n",
       "      <td>/r/buildapc/comments/ivxb1g/nvme_or_25_sata_fo...</td>\n",
       "    </tr>\n",
       "    <tr>\n",
       "      <th>96</th>\n",
       "      <td>Fans</td>\n",
       "      <td>1600537968</td>\n",
       "      <td>Is having cooling fans an absolute must? When ...</td>\n",
       "      <td>buildapc</td>\n",
       "      <td>Consistent_Bite_4391</td>\n",
       "      <td>False</td>\n",
       "      <td>/r/buildapc/comments/ivxari/fans/</td>\n",
       "    </tr>\n",
       "    <tr>\n",
       "      <th>97</th>\n",
       "      <td>Go with my new build or Upgrade my old set up?</td>\n",
       "      <td>1600537909</td>\n",
       "      <td>I made a post here a few weeks back about want...</td>\n",
       "      <td>buildapc</td>\n",
       "      <td>Suavesky</td>\n",
       "      <td>False</td>\n",
       "      <td>/r/buildapc/comments/ivxa2c/go_with_my_new_bui...</td>\n",
       "    </tr>\n",
       "    <tr>\n",
       "      <th>98</th>\n",
       "      <td>Avoid Thermaltake products like the plague. Th...</td>\n",
       "      <td>1600537852</td>\n",
       "      <td>In the midst of trying to get in warranty supp...</td>\n",
       "      <td>buildapc</td>\n",
       "      <td>ohboyohboyohboy</td>\n",
       "      <td>False</td>\n",
       "      <td>/r/buildapc/comments/ivx9cx/avoid_thermaltake_...</td>\n",
       "    </tr>\n",
       "    <tr>\n",
       "      <th>99</th>\n",
       "      <td>Can you recommend a build under $1400(without ...</td>\n",
       "      <td>1600537808</td>\n",
       "      <td>Yeah, so I need a build for my already purchas...</td>\n",
       "      <td>buildapc</td>\n",
       "      <td>DemonRDT6</td>\n",
       "      <td>False</td>\n",
       "      <td>/r/buildapc/comments/ivx8v5/can_you_recommend_...</td>\n",
       "    </tr>\n",
       "  </tbody>\n",
       "</table>\n",
       "<p>15000 rows × 7 columns</p>\n",
       "</div>"
      ],
      "text/plain": [
       "                                                title  created_utc  \\\n",
       "0   Upgrading my monitor, will i need to upgrade m...   1601513901   \n",
       "1   I need help building a pc based around an rx 5...   1601513886   \n",
       "2                                  MotherBoard Choice   1601513854   \n",
       "3        First PC hopefully for Christmas, any notes?   1601513825   \n",
       "4   Upgrading my monitor, do I need to upgrade my ...   1601513783   \n",
       "..                                                ...          ...   \n",
       "95                  NVMe OR 2.5\" SATA for same price?   1600537991   \n",
       "96                                               Fans   1600537968   \n",
       "97     Go with my new build or Upgrade my old set up?   1600537909   \n",
       "98  Avoid Thermaltake products like the plague. Th...   1600537852   \n",
       "99  Can you recommend a build under $1400(without ...   1600537808   \n",
       "\n",
       "                                             selftext subreddit  \\\n",
       "0   Not sure if this is the correct sub or not but...  buildapc   \n",
       "1   Hello,I need as much help as I can get because...  buildapc   \n",
       "2   I have my build but can't pick a motherboard. ...  buildapc   \n",
       "3   I'm getting my friends old RX580 after he upgr...  buildapc   \n",
       "4                                           [deleted]  buildapc   \n",
       "..                                                ...       ...   \n",
       "95  Hi, I need a new SSD for my boot and cannot de...  buildapc   \n",
       "96  Is having cooling fans an absolute must? When ...  buildapc   \n",
       "97  I made a post here a few weeks back about want...  buildapc   \n",
       "98  In the midst of trying to get in warranty supp...  buildapc   \n",
       "99  Yeah, so I need a build for my already purchas...  buildapc   \n",
       "\n",
       "                  author  media_only  \\\n",
       "0      Eugenethebluejean       False   \n",
       "1         Mathew_Esteves       False   \n",
       "2                Sinca12       False   \n",
       "3               Stoompa5       False   \n",
       "4              [deleted]       False   \n",
       "..                   ...         ...   \n",
       "95          doncorleone_       False   \n",
       "96  Consistent_Bite_4391       False   \n",
       "97              Suavesky       False   \n",
       "98       ohboyohboyohboy       False   \n",
       "99             DemonRDT6       False   \n",
       "\n",
       "                                            permalink  \n",
       "0   /r/buildapc/comments/j2yo56/upgrading_my_monit...  \n",
       "1   /r/buildapc/comments/j2ynzr/i_need_help_buildi...  \n",
       "2     /r/buildapc/comments/j2ynpx/motherboard_choice/  \n",
       "3   /r/buildapc/comments/j2ynf5/first_pc_hopefully...  \n",
       "4   /r/buildapc/comments/j2yn0v/upgrading_my_monit...  \n",
       "..                                                ...  \n",
       "95  /r/buildapc/comments/ivxb1g/nvme_or_25_sata_fo...  \n",
       "96                  /r/buildapc/comments/ivxari/fans/  \n",
       "97  /r/buildapc/comments/ivxa2c/go_with_my_new_bui...  \n",
       "98  /r/buildapc/comments/ivx9cx/avoid_thermaltake_...  \n",
       "99  /r/buildapc/comments/ivx8v5/can_you_recommend_...  \n",
       "\n",
       "[15000 rows x 7 columns]"
      ]
     },
     "execution_count": 16,
     "metadata": {},
     "output_type": "execute_result"
    }
   ],
   "source": [
    "buildapc"
   ]
  },
  {
   "cell_type": "code",
   "execution_count": 17,
   "metadata": {},
   "outputs": [
    {
     "data": {
      "text/plain": [
       "(15000, 7)"
      ]
     },
     "execution_count": 17,
     "metadata": {},
     "output_type": "execute_result"
    }
   ],
   "source": [
    "buildapc.shape"
   ]
  },
  {
   "cell_type": "markdown",
   "metadata": {},
   "source": [
    "**Use function on GamingPC subreddit**"
   ]
  },
  {
   "cell_type": "code",
   "execution_count": 18,
   "metadata": {},
   "outputs": [],
   "source": [
    "gamingpc=get_posts('gamingpc',150,1601513952)"
   ]
  },
  {
   "cell_type": "code",
   "execution_count": 19,
   "metadata": {},
   "outputs": [
    {
     "data": {
      "text/html": [
       "<div>\n",
       "<style scoped>\n",
       "    .dataframe tbody tr th:only-of-type {\n",
       "        vertical-align: middle;\n",
       "    }\n",
       "\n",
       "    .dataframe tbody tr th {\n",
       "        vertical-align: top;\n",
       "    }\n",
       "\n",
       "    .dataframe thead th {\n",
       "        text-align: right;\n",
       "    }\n",
       "</style>\n",
       "<table border=\"1\" class=\"dataframe\">\n",
       "  <thead>\n",
       "    <tr style=\"text-align: right;\">\n",
       "      <th></th>\n",
       "      <th>title</th>\n",
       "      <th>created_utc</th>\n",
       "      <th>selftext</th>\n",
       "      <th>subreddit</th>\n",
       "      <th>author</th>\n",
       "      <th>media_only</th>\n",
       "      <th>permalink</th>\n",
       "    </tr>\n",
       "  </thead>\n",
       "  <tbody>\n",
       "    <tr>\n",
       "      <th>0</th>\n",
       "      <td>Time to clean da computer and da keyboard!!</td>\n",
       "      <td>1601512729</td>\n",
       "      <td></td>\n",
       "      <td>gamingpc</td>\n",
       "      <td>TeasinMcFly</td>\n",
       "      <td>False</td>\n",
       "      <td>/r/gamingpc/comments/j2yd8f/time_to_clean_da_c...</td>\n",
       "    </tr>\n",
       "    <tr>\n",
       "      <th>1</th>\n",
       "      <td>Any ideas?</td>\n",
       "      <td>1601510982</td>\n",
       "      <td></td>\n",
       "      <td>gamingpc</td>\n",
       "      <td>QPierson24</td>\n",
       "      <td>False</td>\n",
       "      <td>/r/gamingpc/comments/j2xwii/any_ideas/</td>\n",
       "    </tr>\n",
       "  </tbody>\n",
       "</table>\n",
       "</div>"
      ],
      "text/plain": [
       "                                         title  created_utc selftext  \\\n",
       "0  Time to clean da computer and da keyboard!!   1601512729            \n",
       "1                                   Any ideas?   1601510982            \n",
       "\n",
       "  subreddit       author  media_only  \\\n",
       "0  gamingpc  TeasinMcFly       False   \n",
       "1  gamingpc   QPierson24       False   \n",
       "\n",
       "                                           permalink  \n",
       "0  /r/gamingpc/comments/j2yd8f/time_to_clean_da_c...  \n",
       "1             /r/gamingpc/comments/j2xwii/any_ideas/  "
      ]
     },
     "execution_count": 19,
     "metadata": {},
     "output_type": "execute_result"
    }
   ],
   "source": [
    "gamingpc.head(2)"
   ]
  },
  {
   "cell_type": "code",
   "execution_count": 20,
   "metadata": {},
   "outputs": [
    {
     "data": {
      "text/plain": [
       "(15000, 7)"
      ]
     },
     "execution_count": 20,
     "metadata": {},
     "output_type": "execute_result"
    }
   ],
   "source": [
    "gamingpc.shape"
   ]
  },
  {
   "cell_type": "markdown",
   "metadata": {},
   "source": [
    "**Combine the DataFrames**"
   ]
  },
  {
   "cell_type": "code",
   "execution_count": 21,
   "metadata": {},
   "outputs": [
    {
     "data": {
      "text/plain": [
       "gamingpc    15000\n",
       "buildapc    15000\n",
       "Name: subreddit, dtype: int64"
      ]
     },
     "execution_count": 21,
     "metadata": {},
     "output_type": "execute_result"
    }
   ],
   "source": [
    "both=pd.concat([buildapc,gamingpc])\n",
    "both['subreddit'].value_counts()"
   ]
  },
  {
   "cell_type": "code",
   "execution_count": 22,
   "metadata": {},
   "outputs": [],
   "source": [
    "both.to_csv('pc_subreddits.csv',index=0)"
   ]
  },
  {
   "cell_type": "markdown",
   "metadata": {},
   "source": [
    "**gamingpc seems to be primarily pictures. I'll try another subreddit with similar theme.**"
   ]
  },
  {
   "cell_type": "markdown",
   "metadata": {},
   "source": [
    "### Use function on buildapcforme subreddit"
   ]
  },
  {
   "cell_type": "code",
   "execution_count": 5,
   "metadata": {},
   "outputs": [],
   "source": [
    "buildapcforme=get_posts('buildapcforme',150,1601513952)"
   ]
  },
  {
   "cell_type": "code",
   "execution_count": 8,
   "metadata": {},
   "outputs": [],
   "source": [
    "buildapcforme.to_csv('build_a_pc_for_me.csv',index=0)"
   ]
  }
 ],
 "metadata": {
  "kernelspec": {
   "display_name": "Python 3",
   "language": "python",
   "name": "python3"
  },
  "language_info": {
   "codemirror_mode": {
    "name": "ipython",
    "version": 3
   },
   "file_extension": ".py",
   "mimetype": "text/x-python",
   "name": "python",
   "nbconvert_exporter": "python",
   "pygments_lexer": "ipython3",
   "version": "3.8.5"
  }
 },
 "nbformat": 4,
 "nbformat_minor": 4
}
